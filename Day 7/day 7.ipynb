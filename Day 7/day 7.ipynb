{
 "cells": [
  {
   "cell_type": "code",
   "execution_count": 2,
   "id": "c719b6a7",
   "metadata": {},
   "outputs": [
    {
     "name": "stdout",
     "output_type": "stream",
     "text": [
      "anda\n"
     ]
    }
   ],
   "source": [
    "shopping_list = [\"dudh\", \"anda\", \"rice\"]\n",
    "print(shopping_list[1])"
   ]
  },
  {
   "cell_type": "code",
   "execution_count": 3,
   "id": "31a77d56",
   "metadata": {},
   "outputs": [],
   "source": [
    "shopping_list.append(\"apple\")\n",
    "shopping_list.insert(1,\"banana\")"
   ]
  },
  {
   "cell_type": "code",
   "execution_count": 4,
   "id": "e80de1d6",
   "metadata": {},
   "outputs": [
    {
     "name": "stdout",
     "output_type": "stream",
     "text": [
      "['dudh', 'banana', 'anda', 'rice', 'apple']\n"
     ]
    }
   ],
   "source": [
    "print(shopping_list)"
   ]
  },
  {
   "cell_type": "code",
   "execution_count": 5,
   "id": "a352d720",
   "metadata": {},
   "outputs": [
    {
     "name": "stdout",
     "output_type": "stream",
     "text": [
      "['anda', 'apple', 'banana', 'dudh', 'rice']\n"
     ]
    }
   ],
   "source": [
    "shopping_list.sort()\n",
    "print(shopping_list)"
   ]
  },
  {
   "cell_type": "code",
   "execution_count": 6,
   "id": "69a00c54",
   "metadata": {},
   "outputs": [
    {
     "name": "stdout",
     "output_type": "stream",
     "text": [
      "['rice', 'dudh', 'banana', 'apple', 'anda']\n"
     ]
    }
   ],
   "source": [
    "shopping_list.reverse()\n",
    "print(shopping_list)"
   ]
  },
  {
   "cell_type": "code",
   "execution_count": 6,
   "id": "2191ebf2",
   "metadata": {},
   "outputs": [
    {
     "name": "stdout",
     "output_type": "stream",
     "text": [
      "[]\n"
     ]
    }
   ],
   "source": [
    "shopping_list.clear()\n",
    "print(shopping_list)"
   ]
  },
  {
   "cell_type": "code",
   "execution_count": 7,
   "id": "9297d5da",
   "metadata": {},
   "outputs": [
    {
     "name": "stdout",
     "output_type": "stream",
     "text": [
      "['rice', 'dudh', 'apple', 'anda']\n"
     ]
    }
   ],
   "source": [
    "shopping_list.remove(\"banana\")\n",
    "print(shopping_list)"
   ]
  },
  {
   "cell_type": "code",
   "execution_count": 8,
   "id": "1940ab5f",
   "metadata": {},
   "outputs": [
    {
     "name": "stdout",
     "output_type": "stream",
     "text": [
      "['dudh', 'apple', 'anda']\n"
     ]
    }
   ],
   "source": [
    "shopping_list.pop(0)\n",
    "print(shopping_list)"
   ]
  },
  {
   "cell_type": "code",
   "execution_count": 9,
   "id": "487cb9eb",
   "metadata": {},
   "outputs": [
    {
     "name": "stdout",
     "output_type": "stream",
     "text": [
      "-dudh\n",
      "-apple\n",
      "-anda\n"
     ]
    }
   ],
   "source": [
    "for item in shopping_list:\n",
    "    print(f\"-{item}\")"
   ]
  },
  {
   "cell_type": "code",
   "execution_count": 10,
   "id": "1c7a88f6",
   "metadata": {},
   "outputs": [
    {
     "name": "stdout",
     "output_type": "stream",
     "text": [
      "1.dudh\n",
      "2.apple\n",
      "3.anda\n"
     ]
    }
   ],
   "source": [
    "for index, item in enumerate(shopping_list):\n",
    "    print(f\"{index+1}.{item}\")"
   ]
  }
 ],
 "metadata": {
  "kernelspec": {
   "display_name": "Python 3",
   "language": "python",
   "name": "python3"
  },
  "language_info": {
   "codemirror_mode": {
    "name": "ipython",
    "version": 3
   },
   "file_extension": ".py",
   "mimetype": "text/x-python",
   "name": "python",
   "nbconvert_exporter": "python",
   "pygments_lexer": "ipython3",
   "version": "3.11.9"
  }
 },
 "nbformat": 4,
 "nbformat_minor": 5
}
