{
 "cells": [
  {
   "cell_type": "code",
   "execution_count": 1,
   "id": "70f9b21e",
   "metadata": {},
   "outputs": [],
   "source": [
    "my_dict = {\n",
    "    \"key1\": \"value1\",\n",
    "    \"key2\": \"value2\",\n",
    "    \"key3\": \"value3\"\n",
    "}\n",
    "\n",
    "contact = {\n",
    "    \"name\": \"Samyek\",\n",
    "    \"phone\": \"+977-987654321\",\n",
    "    \"email\": \"samyek@gmail.com\"\n",
    "}"
   ]
  },
  {
   "cell_type": "code",
   "execution_count": 2,
   "id": "0251e158",
   "metadata": {},
   "outputs": [
    {
     "name": "stdout",
     "output_type": "stream",
     "text": [
      "samyek@gmail.com\n"
     ]
    }
   ],
   "source": [
    "print(contact.get(\"email\"))"
   ]
  },
  {
   "cell_type": "code",
   "execution_count": 3,
   "id": "88e58a58",
   "metadata": {},
   "outputs": [
    {
     "name": "stdout",
     "output_type": "stream",
     "text": [
      "{'name': 'Samyek', 'phone': '986532147', 'email': 'samyek@gmail.com'}\n"
     ]
    }
   ],
   "source": [
    "contact[\"phone\"]=\"986532147\"\n",
    "\n",
    "print(contact)"
   ]
  },
  {
   "cell_type": "code",
   "execution_count": 6,
   "id": "01f90dcc",
   "metadata": {},
   "outputs": [
    {
     "name": "stdout",
     "output_type": "stream",
     "text": [
      "{'name': 'Samyek', 'phone': '986532147', 'email': 'samyek@gmail.com', 'address': 'Kathmandu'}\n"
     ]
    }
   ],
   "source": [
    "contact[\"address\"] = \"Kathmandu\"\n",
    "\n",
    "print(contact)"
   ]
  },
  {
   "cell_type": "code",
   "execution_count": 7,
   "id": "818ba029",
   "metadata": {},
   "outputs": [
    {
     "name": "stdout",
     "output_type": "stream",
     "text": [
      "{'name': 'Samyek', 'phone': '986532147', 'address': 'Kathmandu'}\n"
     ]
    }
   ],
   "source": [
    "del contact[\"email\"]\n",
    "print(contact)"
   ]
  },
  {
   "cell_type": "code",
   "execution_count": 8,
   "id": "cd8e2c9c",
   "metadata": {},
   "outputs": [
    {
     "name": "stdout",
     "output_type": "stream",
     "text": [
      "name: Samyek\n",
      "phone: 986532147\n",
      "address: Kathmandu\n",
      "Email not found\n"
     ]
    }
   ],
   "source": [
    "for key, value in contact.items():\n",
    "    print(f\"{key}: {value}\")\n",
    "\n",
    "if \"email\" in contact:\n",
    "    print(\"Email found\")\n",
    "else:\n",
    "    print(\"Email not found\")"
   ]
  }
 ],
 "metadata": {
  "kernelspec": {
   "display_name": "Python 3",
   "language": "python",
   "name": "python3"
  },
  "language_info": {
   "codemirror_mode": {
    "name": "ipython",
    "version": 3
   },
   "file_extension": ".py",
   "mimetype": "text/x-python",
   "name": "python",
   "nbconvert_exporter": "python",
   "pygments_lexer": "ipython3",
   "version": "3.11.9"
  }
 },
 "nbformat": 4,
 "nbformat_minor": 5
}
