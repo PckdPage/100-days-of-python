{
 "cells": [
  {
   "cell_type": "code",
   "execution_count": null,
   "id": "d76503de",
   "metadata": {},
   "outputs": [],
   "source": [
    "# try:\n",
    "#   # Code that might raise an exception\n",
    "# except ExceptionType:\n",
    "#   # Code to handle the exception\n",
    "# else:\n",
    "#   # Execute if no exception occurs\n",
    "# finally:\n",
    "#   # Always execute, even if an exception occurs"
   ]
  },
  {
   "cell_type": "code",
   "execution_count": 1,
   "id": "012ae4d6",
   "metadata": {},
   "outputs": [
    {
     "name": "stdout",
     "output_type": "stream",
     "text": [
      "Result:  5.0\n"
     ]
    }
   ],
   "source": [
    "try:\n",
    "  num = int(input(\"Enter a number:\"))\n",
    "  result = 10 / num\n",
    "  print(\"Result: \", result)\n",
    "except ZeroDivisionError:\n",
    "  print(\"Error: Division by zero is not allowed.\")\n",
    "except ValueError:\n",
    "  print(\"Error: Invalid input. Please enter a valid number.\")"
   ]
  },
  {
   "cell_type": "code",
   "execution_count": 4,
   "id": "06dfeea3",
   "metadata": {},
   "outputs": [
    {
     "name": "stdout",
     "output_type": "stream",
     "text": [
      "No exception occurred. Result:  2.5\n",
      "Finally block . Program Ended\n"
     ]
    }
   ],
   "source": [
    "try:\n",
    "  num = int(input(\"Enter a number:\"))\n",
    "  result = 10 / num\n",
    "except ZeroDivisionError:\n",
    "  print(\"Error: Division by zero is not allowed.\")\n",
    "else:\n",
    "  print(\"No exception occurred. Result: \", result)\n",
    "finally:\n",
    "  print(\"Finally block . Program Ended\")"
   ]
  },
  {
   "cell_type": "code",
   "execution_count": 6,
   "id": "b8412387",
   "metadata": {},
   "outputs": [
    {
     "name": "stdout",
     "output_type": "stream",
     "text": [
      "Error: Division by zero or Invalid Input\n"
     ]
    }
   ],
   "source": [
    "try:\n",
    "  num = int(input(\"Enter a number:\"))\n",
    "  result = 10 / num\n",
    "except (ZeroDivisionError, ValueError):\n",
    "  print(\"Error: Division by zero or Invalid Input\")"
   ]
  },
  {
   "cell_type": "code",
   "execution_count": 7,
   "id": "53a8249f",
   "metadata": {},
   "outputs": [
    {
     "name": "stdout",
     "output_type": "stream",
     "text": [
      "Invalid withdrawal amount - Amount cannot be negative\n"
     ]
    }
   ],
   "source": [
    "def withdraw(amount):\n",
    "  if amount < 0:\n",
    "    raise ValueError(\"Invalid withdrawal amount - Amount cannot be negative\")\n",
    "  print(f\"You have withdrawn ${amount}\")\n",
    "\n",
    "try:\n",
    "  withdraw(-50)\n",
    "except ValueError as e:\n",
    "  print(e)"
   ]
  }
 ],
 "metadata": {
  "kernelspec": {
   "display_name": "Python 3",
   "language": "python",
   "name": "python3"
  },
  "language_info": {
   "codemirror_mode": {
    "name": "ipython",
    "version": 3
   },
   "file_extension": ".py",
   "mimetype": "text/x-python",
   "name": "python",
   "nbconvert_exporter": "python",
   "pygments_lexer": "ipython3",
   "version": "3.11.9"
  }
 },
 "nbformat": 4,
 "nbformat_minor": 5
}
