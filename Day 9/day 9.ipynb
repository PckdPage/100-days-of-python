{
 "cells": [
  {
   "cell_type": "code",
   "execution_count": 3,
   "id": "d9d1f8d7",
   "metadata": {},
   "outputs": [
    {
     "name": "stdout",
     "output_type": "stream",
     "text": [
      "5\n",
      "10\n",
      "15\n"
     ]
    }
   ],
   "source": [
    "coordinates = (5,10,15)\n",
    "x,y,z = coordinates\n",
    "\n",
    "print(x)\n",
    "print(y)\n",
    "print(z)"
   ]
  },
  {
   "cell_type": "code",
   "execution_count": 4,
   "id": "640b7216",
   "metadata": {},
   "outputs": [
    {
     "name": "stdout",
     "output_type": "stream",
     "text": [
      "3\n"
     ]
    }
   ],
   "source": [
    "fruits = (\"watermelon\", \"cherry\", \"blueberry\")\n",
    "print(len(fruits))"
   ]
  },
  {
   "cell_type": "code",
   "execution_count": 5,
   "id": "041e5b4e",
   "metadata": {},
   "outputs": [
    {
     "name": "stdout",
     "output_type": "stream",
     "text": [
      "('watermelon', 'cherry', 'blueberry', 'guava')\n"
     ]
    }
   ],
   "source": [
    "print(fruits + (\"guava\",))"
   ]
  },
  {
   "cell_type": "code",
   "execution_count": 6,
   "id": "62645170",
   "metadata": {},
   "outputs": [],
   "source": [
    "set = {1,2,3}"
   ]
  },
  {
   "cell_type": "code",
   "execution_count": 7,
   "id": "33c0b1dc",
   "metadata": {},
   "outputs": [
    {
     "name": "stdout",
     "output_type": "stream",
     "text": [
      "{'butter', 'sugar', 'water'}\n"
     ]
    }
   ],
   "source": [
    "ingredients = {\"water\",\"sugar\",\"butter\"}\n",
    "print(ingredients)"
   ]
  },
  {
   "cell_type": "code",
   "execution_count": 8,
   "id": "560616ba",
   "metadata": {},
   "outputs": [
    {
     "name": "stdout",
     "output_type": "stream",
     "text": [
      "{'eggs', 'sugar', 'water'}\n"
     ]
    }
   ],
   "source": [
    "ingredients.add(\"eggs\")\n",
    "\n",
    "ingredients.remove(\"butter\")\n",
    "\n",
    "print(ingredients)"
   ]
  },
  {
   "cell_type": "code",
   "execution_count": 9,
   "id": "229364eb",
   "metadata": {},
   "outputs": [
    {
     "name": "stdout",
     "output_type": "stream",
     "text": [
      "{'butter', 'eggs', 'baking soda', 'flour'}\n",
      "{'baking soda'}\n",
      "{'butter', 'flour'}\n"
     ]
    }
   ],
   "source": [
    "set_a = {\"flour\", \"baking soda\", \"butter\"}\n",
    "set_b = {\"eggs\", \"baking soda\"}\n",
    "\n",
    "print(set_a | set_b)\n",
    "print(set_a & set_b)\n",
    "print(set_a - set_b)\n"
   ]
  }
 ],
 "metadata": {
  "kernelspec": {
   "display_name": "Python 3",
   "language": "python",
   "name": "python3"
  },
  "language_info": {
   "codemirror_mode": {
    "name": "ipython",
    "version": 3
   },
   "file_extension": ".py",
   "mimetype": "text/x-python",
   "name": "python",
   "nbconvert_exporter": "python",
   "pygments_lexer": "ipython3",
   "version": "3.11.9"
  }
 },
 "nbformat": 4,
 "nbformat_minor": 5
}
