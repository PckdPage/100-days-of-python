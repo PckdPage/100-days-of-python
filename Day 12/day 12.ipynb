{
 "cells": [
  {
   "cell_type": "code",
   "execution_count": 1,
   "id": "b41b082d",
   "metadata": {},
   "outputs": [],
   "source": [
    "# def function_name():\n",
    "#   #Code\n",
    "#   return value"
   ]
  },
  {
   "cell_type": "code",
   "execution_count": 2,
   "id": "84023034",
   "metadata": {},
   "outputs": [],
   "source": [
    "def add(a, b):\n",
    "  return a + b"
   ]
  },
  {
   "cell_type": "code",
   "execution_count": 4,
   "id": "1d45bffb",
   "metadata": {},
   "outputs": [
    {
     "name": "stdout",
     "output_type": "stream",
     "text": [
      "30\n"
     ]
    }
   ],
   "source": [
    "result = add(10, 20)\n",
    "print(result)"
   ]
  },
  {
   "cell_type": "code",
   "execution_count": 5,
   "id": "756a3123",
   "metadata": {},
   "outputs": [],
   "source": [
    "def rectangle_area(width, height):\n",
    "  return width * height"
   ]
  },
  {
   "cell_type": "code",
   "execution_count": 6,
   "id": "7f94e5ad",
   "metadata": {},
   "outputs": [
    {
     "name": "stdout",
     "output_type": "stream",
     "text": [
      "200\n"
     ]
    }
   ],
   "source": [
    "area = rectangle_area(10, 20)\n",
    "print(area)"
   ]
  },
  {
   "cell_type": "code",
   "execution_count": 7,
   "id": "b0131781",
   "metadata": {},
   "outputs": [
    {
     "name": "stdout",
     "output_type": "stream",
     "text": [
      "5\n"
     ]
    }
   ],
   "source": [
    "def math_operations(a, b):\n",
    "  addition = a + b\n",
    "  subtraction = a - b\n",
    "  multiplication = a * b\n",
    "  division = a / b\n",
    "  return addition, subtraction, multiplication, division\n",
    "\n",
    "add, subtract, multiply, divide = math_operations(10, 5)\n",
    "print(subtract)"
   ]
  }
 ],
 "metadata": {
  "kernelspec": {
   "display_name": "Python 3",
   "language": "python",
   "name": "python3"
  },
  "language_info": {
   "codemirror_mode": {
    "name": "ipython",
    "version": 3
   },
   "file_extension": ".py",
   "mimetype": "text/x-python",
   "name": "python",
   "nbconvert_exporter": "python",
   "pygments_lexer": "ipython3",
   "version": "3.11.9"
  }
 },
 "nbformat": 4,
 "nbformat_minor": 5
}
