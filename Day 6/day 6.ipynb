{
 "cells": [
  {
   "cell_type": "code",
   "execution_count": 1,
   "id": "37496077",
   "metadata": {},
   "outputs": [
    {
     "name": "stdout",
     "output_type": "stream",
     "text": [
      "Hello!\n"
     ]
    }
   ],
   "source": [
    "def function_name():\n",
    "    print(\"Hello!\")\n",
    "\n",
    "function_name()"
   ]
  },
  {
   "cell_type": "code",
   "execution_count": 2,
   "id": "4e3d7a4f",
   "metadata": {},
   "outputs": [
    {
     "name": "stdout",
     "output_type": "stream",
     "text": [
      "Hello, Samyek!\n"
     ]
    }
   ],
   "source": [
    "def greeting(name):\n",
    "    print(f\"Hello, {name}!\")\n",
    "\n",
    "greeting(\"Samyek\")"
   ]
  },
  {
   "cell_type": "code",
   "execution_count": 4,
   "id": "83833ec1",
   "metadata": {},
   "outputs": [
    {
     "name": "stdout",
     "output_type": "stream",
     "text": [
      "The sum is: 9\n"
     ]
    }
   ],
   "source": [
    "def add(a, b):\n",
    "  print(f\"The sum is: {a + b}\")\n",
    "\n",
    "add(5, 4)"
   ]
  },
  {
   "cell_type": "code",
   "execution_count": 5,
   "id": "76d9ca82",
   "metadata": {},
   "outputs": [
    {
     "name": "stdout",
     "output_type": "stream",
     "text": [
      "Result:  10\n"
     ]
    }
   ],
   "source": [
    "def multiply(a,b):\n",
    "    return a*b\n",
    "\n",
    "result = multiply(5,2)\n",
    "print(\"Result: \",result)\n"
   ]
  },
  {
   "cell_type": "markdown",
   "id": "a602f2c7",
   "metadata": {},
   "source": [
    "Basic Quiz Game"
   ]
  },
  {
   "cell_type": "code",
   "execution_count": 3,
   "id": "92888f67",
   "metadata": {},
   "outputs": [
    {
     "name": "stdout",
     "output_type": "stream",
     "text": [
      "\n",
      "Welcome To The Game\n",
      "You will be shown math problems, and you need to give the correct answer.\n",
      "\n",
      "Question 1: 1 - 8\n",
      "Correct!\n",
      "\n",
      "Question 2: 1 - 2\n",
      "Correct!\n",
      "\n",
      "Question 3: 10 * 5\n",
      "Correct!\n",
      "\n",
      "Question 4: 1 - 4\n",
      "Wrong! The correct answer is: -3\n",
      "\n",
      "Question 5: 7 + 3\n",
      "Correct!\n",
      "\n",
      "--- Game Over! ---\n",
      "Your final score is: 4/5\n",
      "Good job, You did well.\n"
     ]
    }
   ],
   "source": [
    "import random \n",
    "\n",
    "# 1: define the question function\n",
    "def que_generator():\n",
    "    num1 = random.randint(1,10)\n",
    "    num2 = random.randint(1,10)\n",
    "    op = random.choice(['+','-','*'])\n",
    "\n",
    "    if op == \"+\":\n",
    "        ans = num1 + num2\n",
    "    elif op == \"-\":\n",
    "        ans = num1 - num2\n",
    "    else: \n",
    "        ans = num1 * num2\n",
    "\n",
    "    return f\"{num1} {op} {num2}\", ans\n",
    "\n",
    "# 2: main part \n",
    "def math_quiz():\n",
    "  score = 0\n",
    "  rounds = 5\n",
    "\n",
    "  print(\"\\nWelcome To The Game\")\n",
    "  print(\"You will be shown math problems, and you need to give the correct answer.\")\n",
    "\n",
    "  for i in range(rounds):\n",
    "    question, correct_answer = que_generator()\n",
    "    print(f\"\\nQuestion {i + 1}: {question}\")\n",
    "    user_answer = int(input(\"Your answer: \"))\n",
    "\n",
    "    if user_answer == correct_answer:\n",
    "      print(\"Correct!\")\n",
    "      score += 1\n",
    "    else:\n",
    "      print(f\"Wrong! The correct answer is: {correct_answer}\")\n",
    "\n",
    "  print(\"\\n--- Game Over! ---\")\n",
    "  print(f\"Your final score is: {score}/{rounds}\")\n",
    "  if score == rounds:\n",
    "    print(\"Congratulations! You got all the questions correct.\")\n",
    "  elif score >= rounds // 2:\n",
    "    print(\"Good job, You did well.\")\n",
    "  else:\n",
    "    print(\"do better next time.\")\n",
    "    \n",
    "\n",
    "# 3: run \n",
    "math_quiz()"
   ]
  },
  {
   "cell_type": "code",
   "execution_count": null,
   "id": "1e2e4142",
   "metadata": {},
   "outputs": [],
   "source": []
  }
 ],
 "metadata": {
  "kernelspec": {
   "display_name": "Python 3",
   "language": "python",
   "name": "python3"
  },
  "language_info": {
   "codemirror_mode": {
    "name": "ipython",
    "version": 3
   },
   "file_extension": ".py",
   "mimetype": "text/x-python",
   "name": "python",
   "nbconvert_exporter": "python",
   "pygments_lexer": "ipython3",
   "version": "3.11.9"
  }
 },
 "nbformat": 4,
 "nbformat_minor": 5
}
